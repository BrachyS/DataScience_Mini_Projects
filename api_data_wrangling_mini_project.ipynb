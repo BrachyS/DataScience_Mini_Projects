{
 "cells": [
  {
   "cell_type": "markdown",
   "metadata": {},
   "source": [
    "Qaundl has a large number of data sources, but, unfortunately, most of them require a Premium subscription. Still, there are also a good number of free datasets."
   ]
  },
  {
   "cell_type": "markdown",
   "metadata": {},
   "source": [
    "For this mini project, we will focus on equities data from the Frankfurt Stock Exhange (FSE), which is available for free. We'll try and analyze the stock prices of a company called Carl Zeiss Meditec, which manufactures tools for eye examinations, as well as medical lasers for laser eye surgery: https://www.zeiss.com/meditec/int/home.html. The company is listed under the stock ticker AFX_X.\n",
    "\n",
    "To address the questions below, we will not use third party libraries such as pandas and numpy, and instead focus on what's available in the Python Standard Library."
   ]
  },
  {
   "cell_type": "markdown",
   "metadata": {},
   "source": [
    "You can find the detailed Quandl API instructions here: https://docs.quandl.com/docs/time-series"
   ]
  },
  {
   "cell_type": "markdown",
   "metadata": {},
   "source": [
    "Questions to be addressed are listed below:\n",
    "1. Collect data from the Franfurt Stock Exchange, for the ticker AFX_X, for the whole year 2017.\n",
    "2. Convert the returned JSON object into a Python dictionary.\n",
    "3. Calculate what the highest and lowest opening prices were for the stock in this period.\n",
    "4. What was the largest change in any one day (based on High and Low price)?\n",
    "5. What was the largest change between any two days (based on Closing Price)?\n",
    "6. What was the average daily trading volume during this year?\n",
    "7. (Optional) What was the median trading volume during this year. "
   ]
  },
  {
   "cell_type": "code",
   "execution_count": 2,
   "metadata": {},
   "outputs": [],
   "source": [
    "# First, import the relevant modules\n",
    "import requests"
   ]
  },
  {
   "cell_type": "code",
   "execution_count": 3,
   "metadata": {},
   "outputs": [],
   "source": [
    "# Now, call the Quandl API and pull out a small sample of the data (only one day) to get a glimpse\n",
    "# into the JSON structure that will be returned\n",
    "sample =requests.get('https://www.quandl.com/api/v3/datasets/FSE/AFX_X/data.json?start_date=2018-03-27&end_date=2018-03-27&api_key='+API_KEY)\n"
   ]
  },
  {
   "cell_type": "code",
   "execution_count": 4,
   "metadata": {},
   "outputs": [
    {
     "name": "stdout",
     "output_type": "stream",
     "text": [
      "{'dataset_data': {'limit': None, 'transform': None, 'column_index': None, 'column_names': ['Date', 'Open', 'High', 'Low', 'Close', 'Change', 'Traded Volume', 'Turnover', 'Last Price of the Day', 'Daily Traded Units', 'Daily Turnover'], 'start_date': '2018-03-27', 'end_date': '2018-03-27', 'frequency': 'daily', 'data': [['2018-03-27', None, 52.1, 50.35, 51.7, None, 89089.0, 4582469.0, None, None, None]], 'collapse': None, 'order': None}}\n"
     ]
    }
   ],
   "source": [
    "# Inspect the JSON structure of the object you created, and take note of how nested it is,\n",
    "# as well as the overall structure\n",
    "print(sample.json())\n",
    "\n",
    "# Structure:\n",
    "# dataset_data:   - limit: None\n",
    "#                 - transform: None\n",
    "#                 - column_index: None\n",
    "#                 - column_names: 'Date', 'Open', 'High', 'Low', 'Close', 'Change', 'Traded Volume', 'Turnover', 'Last Price of the Day', 'Daily Traded Units', 'Daily Turnover'\n",
    "#                 - start_date\n",
    "#                 - end_date\n",
    "#                 - frequency: daily\n",
    "#                 - data"
   ]
  },
  {
   "cell_type": "code",
   "execution_count": 76,
   "metadata": {},
   "outputs": [],
   "source": [
    "# 1. Collect data from the Franfurt Stock Exchange (database FSE), for the ticker AFX_X (dataset AFX_X), for the whole year 2017\n",
    "r =requests.get('https://www.quandl.com/api/v3/datasets/FSE/AFX_X/data.json?start_date=2017-01-01&end_date=2017-12-31&api_key='+API_KEY)\n"
   ]
  },
  {
   "cell_type": "code",
   "execution_count": 77,
   "metadata": {},
   "outputs": [],
   "source": [
    "# 2. Convert the returned JSON object into a Python dictionary.\n",
    "afx_x = dict(r.json())"
   ]
  },
  {
   "cell_type": "code",
   "execution_count": 126,
   "metadata": {},
   "outputs": [
    {
     "data": {
      "text/plain": [
       "[['2017-12-29',\n",
       "  51.76,\n",
       "  51.94,\n",
       "  51.45,\n",
       "  51.76,\n",
       "  None,\n",
       "  34640.0,\n",
       "  1792304.0,\n",
       "  None,\n",
       "  None,\n",
       "  None],\n",
       " ['2017-12-28',\n",
       "  51.65,\n",
       "  51.82,\n",
       "  51.43,\n",
       "  51.6,\n",
       "  None,\n",
       "  40660.0,\n",
       "  2099024.0,\n",
       "  None,\n",
       "  None,\n",
       "  None]]"
      ]
     },
     "execution_count": 126,
     "metadata": {},
     "output_type": "execute_result"
    }
   ],
   "source": [
    "# Inspect data\n",
    "afx_x['dataset_data']['data'][0:2]"
   ]
  },
  {
   "cell_type": "code",
   "execution_count": 80,
   "metadata": {},
   "outputs": [],
   "source": [
    "# Extract key data and store in lists\n",
    "prices = []\n",
    "dates = []\n",
    "high = []\n",
    "low = []\n",
    "close = []\n",
    "volume = []\n",
    "for i in afx_x['dataset_data']['data']:\n",
    "    if i[1] is None: continue  # Remove None values\n",
    "    # Or use dictionary comprehension later: newdict = {k: v for k, v in newdict.items() if v is not None}\n",
    "    prices.append(i[1]) \n",
    "    dates.append(i[0])\n",
    "    high.append(i[2])\n",
    "    low.append(i[3])\n",
    "    close.append(i[4])\n",
    "    volume.append(i[6])"
   ]
  },
  {
   "cell_type": "code",
   "execution_count": 64,
   "metadata": {},
   "outputs": [
    {
     "name": "stdout",
     "output_type": "stream",
     "text": [
      "The date with maximum open price is 2017-12-14 and the price is 53.11\n",
      "The date with minimum open price is 2017-01-24 and the price is 34.0\n"
     ]
    }
   ],
   "source": [
    "# 3. Getting max and min open price and date\n",
    "newdict = dict(zip(dates, prices))\n",
    "\n",
    "max_open = max(newdict.values())\n",
    "max_open_date = [k for k, v in newdict.items() if v== max_open]\n",
    "min_open = min(newdict.values())\n",
    "min_open_date = [k for k, v in newdict.items() if v== min_open]\n",
    "print('The date with maximum open price is {} and the price is {}'.format(max_open_date[0], max_open))\n",
    "print('The date with minimum open price is {} and the price is {}'.format(min_open_date[0], min_open))"
   ]
  },
  {
   "cell_type": "code",
   "execution_count": 65,
   "metadata": {},
   "outputs": [
    {
     "name": "stdout",
     "output_type": "stream",
     "text": [
      "2017-12-14 00:00:00\n"
     ]
    }
   ],
   "source": [
    "# If convert to datetime\n",
    "from datetime import datetime\n",
    "print(datetime.strptime(max_open_date[0], '%Y-%m-%d'))\n"
   ]
  },
  {
   "cell_type": "code",
   "execution_count": 113,
   "metadata": {},
   "outputs": [
    {
     "name": "stdout",
     "output_type": "stream",
     "text": [
      "The largest change in any one day is 2.81 on 2017-05-11\n"
     ]
    }
   ],
   "source": [
    "# 4. What was the largest change in any one day (based on High and Low price)?\n",
    "# Use list comprehension to calculate price change in each day\n",
    "diff = [x-y for x, y in zip(high,low)]\n",
    "\n",
    "diff_dict = dict(zip(dates,diff))\n",
    "\n",
    "largest_diff_date = [k for k, v in diff_dict.items() if v == max(diff)]\n",
    "print('The largest change in any one day is {} on {}'.format(round(max(diff),2), largest_diff_date[0]))\n"
   ]
  },
  {
   "cell_type": "code",
   "execution_count": 66,
   "metadata": {},
   "outputs": [
    {
     "name": "stdout",
     "output_type": "stream",
     "text": [
      "The largest change between any two days is 19.03 between 2017-12-13 and 2017-01-23\n"
     ]
    }
   ],
   "source": [
    "# 5. What was the largest change between any two days (based on Closing Price)?\n",
    "\n",
    "# Calculate the largest change\n",
    "change = max(close)-min(close)\n",
    "close_dict = dict(zip(dates,close))\n",
    "\n",
    "max_close = [k for k, v in close_dict.items() if v == max(close)]\n",
    "min_close = [k for k, v in close_dict.items() if v == min(close)]\n",
    "\n",
    "print('The largest change between any two days is {} between {} and {}'.format(change, max_close[0], min_close[0]))\n"
   ]
  },
  {
   "cell_type": "code",
   "execution_count": 114,
   "metadata": {},
   "outputs": [
    {
     "name": "stdout",
     "output_type": "stream",
     "text": [
      "The average daily trading volume is 89140.98\n"
     ]
    }
   ],
   "source": [
    "# 6. What was the average daily trading volume during this year?\n",
    "average = sum(volume)/len(volume)\n",
    "print('The average daily trading volume is', round(average,2))\n"
   ]
  },
  {
   "cell_type": "code",
   "execution_count": 125,
   "metadata": {},
   "outputs": [
    {
     "name": "stdout",
     "output_type": "stream",
     "text": [
      "The median trading volume during this year is 74723.5\n"
     ]
    }
   ],
   "source": [
    "# (Optional) What was the median trading volume during this year. (Note: you may need to implement your own function for calculating the median.)\n",
    "def median(x):\n",
    "    sort =sorted(x)\n",
    "    if len(sort) % 2 == 0: \n",
    "        return (sort[int(len(sort)/2-1)] + sort[int(len(sort)/2)])/2\n",
    "    else:\n",
    "        return sort[int((len(sort)+1)/2)]\n",
    "\n",
    "median_volume= median(volume)\n",
    "print('The median trading volume during this year is',median_volume)"
   ]
  },
  {
   "cell_type": "code",
   "execution_count": 115,
   "metadata": {},
   "outputs": [
    {
     "data": {
      "text/plain": [
       "74723.5"
      ]
     },
     "execution_count": 115,
     "metadata": {},
     "output_type": "execute_result"
    }
   ],
   "source": [
    "# Double check with function median() from the statistics package:\n",
    "import statistics\n",
    "statistics.median(volume)"
   ]
  }
 ],
 "metadata": {
  "kernelspec": {
   "display_name": "Python 3",
   "language": "python",
   "name": "python3"
  },
  "language_info": {
   "codemirror_mode": {
    "name": "ipython",
    "version": 3
   },
   "file_extension": ".py",
   "mimetype": "text/x-python",
   "name": "python",
   "nbconvert_exporter": "python",
   "pygments_lexer": "ipython3",
   "version": "3.6.7"
  }
 },
 "nbformat": 4,
 "nbformat_minor": 2
}
